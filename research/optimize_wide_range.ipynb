{
 "cells": [
  {
   "cell_type": "markdown",
   "id": "5a51c175-9bc6-4e94-b936-2a594a5d52b4",
   "metadata": {},
   "source": [
    "### Ресерч оптимизации систем\n",
    "Предмет исследования - поиск алгоритма по нахождению параметров, приводящим к корректной оптимизации. \n",
    "Алгоритм должен:\n",
    "* найти широкий диапазон параметров, которые позволят системе показать хорошую результативность. \n",
    "* исключить наборы параметров, показывающих исключительную результативность системы, если близкие параметры показывают значительно худший результат. "
   ]
  },
  {
   "cell_type": "code",
   "execution_count": 1,
   "id": "c7ea9f1c-d3ac-4419-b10b-d1a4c2820349",
   "metadata": {},
   "outputs": [],
   "source": [
    "\"\"\"Установка диапазонов для параметров\"\"\" \n",
    "import numpy as np\n",
    "\n",
    "n1_set = np.arange(1, 8, 1)\n",
    "k_set = np.arange(1.0, 2.7, 0.1)"
   ]
  },
  {
   "cell_type": "code",
   "execution_count": 2,
   "id": "a95c6fa3-14c5-4257-8500-19f963721f9d",
   "metadata": {},
   "outputs": [],
   "source": [
    "# получение candels\n",
    "from datetime import datetime\n",
    "from app.clients.tinkoff import TIClient\n",
    "from app.settings import TINKOFF_SANDBOX_TOKEN\n",
    "\n",
    "TICKER = \"SPCE\"\n",
    "_from=datetime(year=2020, month=5, day=10)\n",
    "_to=datetime(year=2021, month=5, day=10)\n",
    "\n",
    "client = TIClient(TINKOFF_SANDBOX_TOKEN, use_sandbox=True)\n",
    "candles = client.get_candles_by_ticker(TICKER, _from, _to)"
   ]
  },
  {
   "cell_type": "code",
   "execution_count": 3,
   "id": "8283375e-9c0f-40ca-aedb-6c838b9b5ff5",
   "metadata": {},
   "outputs": [
    {
     "name": "stdout",
     "output_type": "stream",
     "text": [
      "ref_result: 19.06%\n"
     ]
    }
   ],
   "source": [
    "\"\"\"Получение пассивной доходности (референс)\n",
    "Далее эту доходность будем вычитать из результата стратегии, чтобы получить эффект стратегии\n",
    "\"\"\" \n",
    "from sim import Baffett\n",
    "from sim.models import DealsView\n",
    "\n",
    "ref_trader = Baffett()\n",
    "passive_deals = ref_trader.create_deals(candles)\n",
    "ref_result = DealsView(passive_deals, candles[0].close).percentage_result\n",
    "print(f\"ref_result: {ref_result}%\")"
   ]
  },
  {
   "cell_type": "code",
   "execution_count": 4,
   "id": "148e7aa8-d9e5-4c00-b72d-30e146b709ff",
   "metadata": {},
   "outputs": [
    {
     "name": "stdout",
     "output_type": "stream",
     "text": [
      "[[103.59 112.94 120.83 266.61 266.61 328.97 289.74 267.58 267.58 238.07\n",
      "  238.07 238.07 238.07 238.07 221.44 221.44 139.77]\n",
      " [202.74 202.74 210.63 274.75 274.75 328.97 289.74 267.58 267.58 202.01\n",
      "  202.01 202.01 202.01 202.01 185.37 185.37 103.71]\n",
      " [202.74 202.74 210.63 274.75 274.75 328.97 253.62 231.52 231.52 202.01\n",
      "  202.01 202.01 202.01 202.01 185.37 185.37 103.71]\n",
      " [202.74 202.74 210.63 274.75 274.75 328.97 253.62 231.52 231.52 202.01\n",
      "  202.01 202.01 202.01 202.01 185.37 185.37 103.71]\n",
      " [202.74 202.74 210.63 274.75 274.75 328.97 253.62 231.52 231.52 202.01\n",
      "  202.01 202.01 202.01 202.01 185.37 185.37 103.71]\n",
      " [202.74 202.74 210.63 274.75 274.75 328.97 253.62 231.52 231.52 202.01\n",
      "  202.01 202.01 202.01 202.01 185.37 185.37 103.71]\n",
      " [202.74 202.74 210.63 274.75 274.75 328.97 253.62 231.52 231.52 202.01\n",
      "  202.01 202.01 202.01 202.01 185.37 185.37 103.71]]\n"
     ]
    }
   ],
   "source": [
    "\"\"\"Генерация сделок для стратегии WideRange для каждого из набора параметров\n",
    "Вычисление результата и формирования матрицы результатов result_matrix\n",
    "\"\"\"\n",
    "from bots.wide_ranging_day_bot.models import WideRangeParams\n",
    "from sim import OnePaperHistoryWideRangeTrader\n",
    "\n",
    "result_matrix = np.empty(shape=(len(n1_set), len(k_set)))\n",
    "for n1_index, n1 in enumerate(n1_set):\n",
    "    for k_index, k in enumerate(k_set):\n",
    "        params = WideRangeParams(n1=int(n1), k=float(k))\n",
    "        trader = OnePaperHistoryWideRangeTrader(params, is_short_on=True)\n",
    "        deals = trader.create_deals(candles)\n",
    "        if deals:\n",
    "            trader_result = DealsView(deals, candles[0].close).percentage_result\n",
    "            effect_result = trader_result - ref_result\n",
    "            result_matrix[n1_index, k_index] = effect_result\n",
    "        else:\n",
    "            result_matrix[n1_index, k_index] = None\n",
    "print(result_matrix)"
   ]
  },
  {
   "cell_type": "code",
   "execution_count": 5,
   "id": "8482561e-d3d1-4c75-aedb-3e5938540b67",
   "metadata": {
    "tags": []
   },
   "outputs": [
    {
     "data": {
      "image/png": "[encoded data removed]",
      "text/plain": [
       "<Figure size 1800x360 with 2 Axes>"
      ]
     },
     "metadata": {
      "needs_background": "light"
     },
     "output_type": "display_data"
    }
   ],
   "source": [
    "\"\"\"Визуализация результатов\"\"\"\n",
    "from matplotlib import pyplot as plt\n",
    "\n",
    "fig = plt.figure()\n",
    "ax = fig.add_subplot(111)\n",
    "\n",
    "cax = ax.imshow(result_matrix, interpolation='none')\n",
    "\n",
    "ax.set_title(f\"{TICKER}\")\n",
    "yaxis = np.arange(len(n1_set))\n",
    "xaxis = np.arange(len(k_set))\n",
    "ax.set_xticks(xaxis)\n",
    "ax.set_yticks(yaxis)\n",
    "ax.set_xticklabels(np.around(k_set, 2))\n",
    "ax.set_yticklabels(n1_set)\n",
    "plt.ylabel(f'n1, дни')\n",
    "plt.xlabel(f'k, коэфицент волатильности')\n",
    "fig.colorbar(cax)\n",
    "fig.set_size_inches(25, 5)\n",
    "\n",
    "plt.show()"
   ]
  },
  {
   "cell_type": "raw",
   "id": "373fedfe-d1b5-44fd-a61f-61c460557336",
   "metadata": {},
   "source": [
    "На графике можно заметить, что результат почти не изменяется при изменении параметра n1, возможно есть ошибка в коде бота, учитывающего этот параметр.\n",
    "Тем не менее можно увидеть значительное изменение доходности в диапазоне k от 1.4 до 1.8 и значительный пик доходности на значении 1.5. \n",
    "Нет смысла концентрироваться на значении 1.5, так как при слишком точном подборе параметров можно получить эффект \"переученности\". \n",
    "Возможно, экстремально высокая доходность обоснована уникальными рыночными явлениями выбранном временном диапазоне.\n",
    "Можно предположить, что любое значение на промежутке n1 ∈ [2:5) и k ∈ [1.4:1.8] будет оптимальным. "
   ]
  }
 ],
 "metadata": {
  "kernelspec": {
   "display_name": "Python 3",
   "language": "python",
   "name": "python3"
  },
  "language_info": {
   "codemirror_mode": {
    "name": "ipython",
    "version": 3
   },
   "file_extension": ".py",
   "mimetype": "text/x-python",
   "name": "python",
   "nbconvert_exporter": "python",
   "pygments_lexer": "ipython3",
   "version": "3.8.6"
  }
 },
 "nbformat": 4,
 "nbformat_minor": 5
}